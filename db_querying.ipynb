{
 "metadata": {
  "language_info": {
   "codemirror_mode": {
    "name": "ipython",
    "version": 3
   },
   "file_extension": ".py",
   "mimetype": "text/x-python",
   "name": "python",
   "nbconvert_exporter": "python",
   "pygments_lexer": "ipython3",
   "version": "3.8.3-final"
  },
  "orig_nbformat": 2,
  "kernelspec": {
   "name": "python38364bitbaryresearch38conda06b2918c8ef445cebf9d11d787dc5a7d",
   "display_name": "Python 3.8.3 64-bit ('baryresearch38': conda)",
   "language": "python"
  }
 },
 "nbformat": 4,
 "nbformat_minor": 2,
 "cells": [
  {
   "cell_type": "code",
   "execution_count": 1,
   "metadata": {
    "tags": []
   },
   "outputs": [],
   "source": [
    "import pandas as pd\n",
    "import pyvo as vo\n",
    "import math\n",
    "import numpy as np \n",
    "import astropy.units as u\n",
    "\n",
    "from astroquery.simbad import Simbad\n",
    "from astropy.coordinates import SkyCoord\n",
    "\n"
   ]
  },
  {
   "cell_type": "code",
   "execution_count": 2,
   "metadata": {},
   "outputs": [],
   "source": [
    "# Access SIMBAD db\n",
    "service = vo.dal.TAPService('http://simbad.u-strasbg.fr/simbad/sim-tap')"
   ]
  },
  {
   "cell_type": "code",
   "execution_count": 6,
   "metadata": {},
   "outputs": [
    {
     "output_type": "stream",
     "name": "stdout",
     "text": [
      "TW Hya: <SkyCoord (ICRS): (ra, dec) in deg\n    (165.46627262, -34.70473099)>\n\nUpper Sco: <SkyCoord (ICRS): (ra, dec) in deg\n    (243., -23.4)>\n"
     ]
    }
   ],
   "source": [
    "# Obtain coords of objects/regions of interest\n",
    "\n",
    "target_name1 = 'TW Hya'\n",
    "target_name2 = 'Upper Sco'\n",
    "\n",
    "target_c1 = SkyCoord.from_name(target_name1)\n",
    "\n",
    "target_c2 = SkyCoord.from_name(target_name2)\n",
    "\n",
    "print(target_name1 + ': ' + str(target_c1) + '\\n' *2 + target_name2 + ': ' + str(target_c2))"
   ]
  },
  {
   "cell_type": "code",
   "execution_count": 7,
   "metadata": {},
   "outputs": [],
   "source": [
    "# Perform a cone search of TTauri stars around TW Hya w/ Vmag <= 12 \n",
    "\n",
    "resultset1 = service.search(\"SELECT oid, main_id, ra, dec, I, B, V, otype FROM basic \\\n",
    "JOIN allfluxes ON oid=allfluxes.oidref \\\n",
    "WHERE CONTAINS(POINT('ICRS', ra, dec), CIRCLE('ICRS',165.47, -34.7, 10))=1 \\\n",
    "AND V<= 12 AND otype = 'TT*'\\\n",
    " ;\" \n",
    ") \n",
    "\n",
    "resultset2 = service.search(\"SELECT oid, main_id, ra, dec, I, B, V, otype FROM basic \\\n",
    "JOIN allfluxes ON oid=allfluxes.oidref \\\n",
    "WHERE CONTAINS(POINT('ICRS', ra, dec), CIRCLE('ICRS',243, -23.4, 20))=1 \\\n",
    "AND V<= 12 AND otype = 'TT*'\\\n",
    " ;\" \n",
    ") "
   ]
  },
  {
   "cell_type": "code",
   "execution_count": 8,
   "metadata": {},
   "outputs": [],
   "source": [
    "#convert to df and round the results\n",
    "resultset1 = resultset1.to_table().to_pandas()\n",
    "resultset2 = resultset2.to_table().to_pandas()\n",
    "\n",
    "cols = ['ra', 'dec', 'I', 'B', 'V']\n",
    "resultset1[cols] = resultset1[cols].round(3)\n",
    "resultset2[cols] = resultset2[cols].round(3)\n",
    "\n",
    "#drop o-type column\n",
    "resultset1 = resultset1.drop(columns=['oid', 'otype'])\n",
    "resultset2 = resultset2.drop(columns=['oid', 'otype'])\n",
    "\n"
   ]
  },
  {
   "cell_type": "code",
   "execution_count": 9,
   "metadata": {},
   "outputs": [],
   "source": [
    "# sort and save to csv\n",
    "sorted_results1 = resultset1.sort_values(by=['dec'], ascending=True)\n",
    "sorted_results1['main_id']=sorted_results1['main_id'].apply(lambda s: s.decode('utf-8'))\n",
    "sorted_results1.to_csv('TW Hydrae Assoc.csv', index=False, encoding='utf-8')\n",
    "\n",
    "sorted_results2 = resultset2.sort_values(by=['dec'], ascending=True)\n",
    "sorted_results2['main_id']=sorted_results2['main_id'].apply(lambda s: s.decode('utf-8'))\n",
    "sorted_results2.to_csv('U Sco Assoc.csv', index=False, encoding='utf-8')\n"
   ]
  },
  {
   "cell_type": "code",
   "execution_count": null,
   "metadata": {},
   "outputs": [],
   "source": []
  }
 ]
}